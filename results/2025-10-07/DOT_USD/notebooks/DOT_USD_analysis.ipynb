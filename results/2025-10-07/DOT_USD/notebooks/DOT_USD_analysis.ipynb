{
 "cells": [
  {
   "cell_type": "markdown",
   "id": "748bc0b3",
   "metadata": {},
   "source": [
    "# GARCH Volatility Analysis - DOT/USD"
   ]
  },
  {
   "cell_type": "markdown",
   "id": "079ca0cf",
   "metadata": {},
   "source": [
    "**Analysis Date**: 2025-10-07"
   ]
  },
  {
   "cell_type": "markdown",
   "id": "d0a3420d",
   "metadata": {},
   "source": [
    "## Overview\n",
    "This notebook presents comprehensive GARCH volatility analysis."
   ]
  },
  {
   "cell_type": "code",
   "execution_count": null,
   "id": "71989233",
   "metadata": {},
   "outputs": [],
   "source": [
    "# Import required libraries\n",
    "import pandas as pd\n",
    "import numpy as np\n",
    "import matplotlib.pyplot as plt\n",
    "import seaborn as sns\n",
    "import json\n",
    "from pathlib import Path\n",
    "import sys\n",
    "import os\n",
    "\n",
    "# Setup plotting\n",
    "plt.style.use('seaborn-v0_8-whitegrid')\n",
    "plt.rcParams['figure.figsize'] = (12, 6)\n",
    "%matplotlib inline"
   ]
  },
  {
   "cell_type": "markdown",
   "id": "1acbeae4",
   "metadata": {},
   "source": [
    "## 1. Load Processed Data"
   ]
  },
  {
   "cell_type": "code",
   "execution_count": null,
   "id": "ddd17704",
   "metadata": {},
   "outputs": [],
   "source": [
    "# Load processed returns data\n",
    "data_path = Path(\"data/processed/2025-10-07/DOT_USD/processed.csv\")\n",
    "returns_df = pd.read_csv(data_path, index_col='timestamp', parse_dates=True)\n",
    "print(f\"Loaded {len(returns_df)} records for DOT/USD\")\n",
    "returns_df[['close', 'log_returns']].head()"
   ]
  },
  {
   "cell_type": "markdown",
   "id": "d2fc0933",
   "metadata": {},
   "source": [
    "## 2. Returns Analysis"
   ]
  },
  {
   "cell_type": "code",
   "execution_count": null,
   "id": "ca7b9b0d",
   "metadata": {},
   "outputs": [],
   "source": [
    "# Basic returns statistics\n",
    "returns_stats = returns_df['log_returns'].describe()\n",
    "returns_stats['skewness'] = returns_df['log_returns'].skew()\n",
    "returns_stats['kurtosis'] = returns_df['log_returns'].kurtosis()\n",
    "returns_stats"
   ]
  },
  {
   "cell_type": "code",
   "execution_count": null,
   "id": "28abfa5f",
   "metadata": {},
   "outputs": [],
   "source": [
    "# Plot returns distribution\n",
    "fig, (ax1, ax2) = plt.subplots(1, 2, figsize=(15, 5))\n",
    "\n",
    "# Time series\n",
    "ax1.plot(returns_df.index, returns_df['log_returns'], alpha=0.7, linewidth=0.8)\n",
    "ax1.set_title(f'{asset} - Log Returns')\n",
    "ax1.set_ylabel('Returns')\n",
    "ax1.grid(True, alpha=0.3)\n",
    "\n",
    "# Distribution\n",
    "ax2.hist(returns_df['log_returns'], bins=50, alpha=0.7, density=True)\n",
    "ax2.set_title(f'{asset} - Returns Distribution')\n",
    "ax2.set_xlabel('Returns')\n",
    "ax2.set_ylabel('Density')\n",
    "ax2.grid(True, alpha=0.3)\n",
    "\n",
    "plt.tight_layout()\n",
    "plt.show()"
   ]
  },
  {
   "cell_type": "markdown",
   "id": "2131e65e",
   "metadata": {},
   "source": [
    "## 3. GARCH Model Results"
   ]
  },
  {
   "cell_type": "code",
   "execution_count": null,
   "id": "ff57290a",
   "metadata": {},
   "outputs": [],
   "source": [
    "# Load GARCH comparison results\n",
    "comp_path = Path(\"results/2025-10-07/comparison/garch_model_comparison.csv\")\n",
    "comparison_df = pd.read_csv(comp_path)\n",
    "asset_comparison = comparison_df[comparison_df['asset'] == 'DOT/USD']\n",
    "asset_comparison"
   ]
  },
  {
   "cell_type": "code",
   "execution_count": null,
   "id": "27a84a83",
   "metadata": {},
   "outputs": [],
   "source": [
    "# Visualize model comparison\n",
    "fig, ax = plt.subplots(figsize=(10, 6))\n",
    "models = asset_comparison['model']\n",
    "aic_values = asset_comparison['aic']\n",
    "\n",
    "bars = ax.bar(models, aic_values, color=['skyblue', 'lightcoral', 'lightgreen'])\n",
    "ax.set_title(f'{asset} - GARCH Model Comparison (AIC)')\n",
    "ax.set_ylabel('AIC (Lower is Better)')\n",
    "ax.grid(True, alpha=0.3)\n",
    "\n",
    "# Add value labels on bars\n",
    "for bar, aic in zip(bars, aic_values):\n",
    "    height = bar.get_height()\n",
    "    ax.text(bar.get_x() + bar.get_width()/2., height,\n",
    "            f'{aic:.1f}', ha='center', va='bottom')\n",
    "\n",
    "plt.show()"
   ]
  },
  {
   "cell_type": "markdown",
   "id": "95b2696a",
   "metadata": {},
   "source": [
    "## 4. Best Model Parameters"
   ]
  },
  {
   "cell_type": "code",
   "execution_count": null,
   "id": "c5f2138d",
   "metadata": {},
   "outputs": [],
   "source": [
    "# Get best model\n",
    "best_model_row = asset_comparison.loc[asset_comparison['aic'].idxmin()]\n",
    "best_model_name = best_model_row['model']\n",
    "best_model_params = best_model_row['params']\n",
    "\n",
    "print(f\"Best Model: {best_model_name}\")\n",
    "print(f\"AIC: {best_model_row['aic']:.1f}\")\n",
    "print(f\"Log Likelihood: {best_model_row['log_likelihood']:.1f}\")\n",
    "print(f\"Persistence: {best_model_row['persistence']:.3f}\")\n",
    "\n",
    "print(\"\\nModel Parameters:\")\n",
    "if isinstance(best_model_params, str):\n",
    "    best_model_params = eval(best_model_params)  # Convert string to dict\n",
    "for param, value in best_model_params.items():\n",
    "    print(f\"  {param}: {value:.6f}\")"
   ]
  },
  {
   "cell_type": "markdown",
   "id": "3cd9f06b",
   "metadata": {},
   "source": [
    "## 5. Volatility Analysis"
   ]
  },
  {
   "cell_type": "code",
   "execution_count": null,
   "id": "4d985491",
   "metadata": {},
   "outputs": [],
   "source": [
    "# Display volatility plot\n",
    "from IPython.display import Image\n",
    "\n",
    "plot_path = Path(\"results/2025-10-07/DOT_USD/plots/volatility_analysis.png\")\n",
    "if plot_path.exists():\n",
    "    display(Image(filename=str(plot_path)))\n",
    "else:\n",
    "    print(\"Volatility plot not found\")"
   ]
  },
  {
   "cell_type": "markdown",
   "id": "de70c4d2",
   "metadata": {},
   "source": [
    "## 6. Trading Insights"
   ]
  },
  {
   "cell_type": "code",
   "execution_count": null,
   "id": "56d05df5",
   "metadata": {},
   "outputs": [],
   "source": [
    "# Generate trading insights\n",
    "persistence = best_model_row['persistence']\n",
    "if not pd.isna(persistence):\n",
    "    if persistence > 0.95:\n",
    "        persistence_insight = \"High persistence - volatility shocks have long-lasting effects\"\n",
    "    elif persistence > 0.8:\n",
    "        persistence_insight = \"Moderate persistence - volatility mean-reverts moderately\"\n",
    "    else:\n",
    "        persistence_insight = \"Low persistence - volatility mean-reverts quickly\"\n",
    "\n",
    "volatility = returns_df['log_returns'].std()\n",
    "if volatility > 0.01:\n",
    "    vol_insight = \"High volatility - suitable for volatility trading strategies\"\n",
    "elif volatility > 0.005:\n",
    "    vol_insight = \"Moderate volatility - balanced risk-return profile\"\n",
    "else:\n",
    "    vol_insight = \"Low volatility - stable but lower potential returns\"\n",
    "\n",
    "print(\"Trading Insights:\")\n",
    "print(f\"- {{persistence_insight}}\")\n",
    "print(f\"- {{vol_insight}}\")\n",
    "print(f\"- Best model type: {{best_model_name}}\")\n",
    "print(f\"- Recommended: Use for {{'shorter-term' if persistence < 0.8 else 'longer-term'}} volatility strategies\")"
   ]
  },
  {
   "cell_type": "markdown",
   "id": "93fb9857",
   "metadata": {},
   "source": [
    "## 7. Conclusion"
   ]
  },
  {
   "cell_type": "markdown",
   "id": "59f620b3",
   "metadata": {},
   "source": [
    "\n",
    "### Summary for DOT/USD\n",
    "\n",
    "- **Best Model**: {{best_model_name}}\n",
    "- **Volatility Persistence**: {{persistence:.3f}}\n",
    "- **Returns Volatility**: {{volatility:.4f}}\n",
    "- **Model Fit Quality**: {{'Excellent' if best_model_row['aic'] < 1000 else 'Good'}}\n",
    "\n",
    "### Recommended Actions:\n",
    "1. Monitor volatility regimes using the {{best_model_name}} model\n",
    "2. Adjust position sizing based on volatility forecasts\n",
    "3. Consider volatility-based entry/exit signals\n"
   ]
  }
 ],
 "metadata": {},
 "nbformat": 4,
 "nbformat_minor": 5
}
