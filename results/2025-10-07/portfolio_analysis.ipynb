{
 "cells": [
  {
   "cell_type": "markdown",
   "id": "09bbcb1a",
   "metadata": {},
   "source": [
    "# Crypto Volatility Portfolio Analysis"
   ]
  },
  {
   "cell_type": "markdown",
   "id": "602e3e77",
   "metadata": {},
   "source": [
    "**Analysis Date**: 2025-10-07"
   ]
  },
  {
   "cell_type": "markdown",
   "id": "17c6fa33",
   "metadata": {},
   "source": [
    "## Portfolio Overview"
   ]
  },
  {
   "cell_type": "code",
   "execution_count": null,
   "id": "1c01f598",
   "metadata": {},
   "outputs": [],
   "source": [
    "# Import libraries\n",
    "import pandas as pd\n",
    "import numpy as np\n",
    "import matplotlib.pyplot as plt\n",
    "import seaborn as sns\n",
    "from pathlib import Path\n",
    "\n",
    "plt.style.use('seaborn-v0_8-whitegrid')\n",
    "%matplotlib inline"
   ]
  },
  {
   "cell_type": "code",
   "execution_count": null,
   "id": "6091df54",
   "metadata": {},
   "outputs": [],
   "source": [
    "# Load portfolio comparison results\n",
    "comp_path = Path(\"results/2025-10-07/comparison/garch_model_comparison.csv\")\n",
    "portfolio_df = pd.read_csv(comp_path)\n",
    "portfolio_df.head()"
   ]
  },
  {
   "cell_type": "code",
   "execution_count": null,
   "id": "47e74ddd",
   "metadata": {},
   "outputs": [],
   "source": [
    "# Best models by asset\n",
    "best_models = portfolio_df.loc[portfolio_df.groupby('asset')['aic'].idxmin()]\n",
    "print(\"Best Models by Asset:\")\n",
    "print(best_models[['asset', 'model', 'aic', 'persistence']].to_string(index=False))"
   ]
  },
  {
   "cell_type": "code",
   "execution_count": null,
   "id": "2e715b29",
   "metadata": {},
   "outputs": [],
   "source": [
    "# Create portfolio summary visualization\n",
    "fig, (ax1, ax2) = plt.subplots(1, 2, figsize=(15, 6))\n",
    "\n",
    "# Model preferences\n",
    "model_counts = best_models['model'].value_counts()\n",
    "ax1.pie(model_counts.values, labels=model_counts.index, autopct='%1.1f%%', \n",
    "        colors=['lightcoral', 'lightgreen', 'skyblue'])\n",
    "ax1.set_title('GARCH Model Preferences Across Portfolio')\n",
    "\n",
    "# AIC comparison\n",
    "assets = best_models['asset']\n",
    "aics = best_models['aic']\n",
    "colors = ['red' if aic > 1000 else 'green' for aic in aics]\n",
    "\n",
    "bars = ax2.bar(assets, aics, color=colors, alpha=0.7)\n",
    "ax2.set_title('Model Fit Quality (AIC) by Asset')\n",
    "ax2.set_ylabel('AIC (Lower is Better)')\n",
    "ax2.tick_params(axis='x', rotation=45)\n",
    "\n",
    "# Add value labels\n",
    "for bar, aic in zip(bars, aics):\n",
    "    ax2.text(bar.get_x() + bar.get_width()/2., bar.get_height() + 10,\n",
    "            f'{aic:.1f}', ha='center', va='bottom')\n",
    "\n",
    "plt.tight_layout()\n",
    "plt.show()"
   ]
  },
  {
   "cell_type": "markdown",
   "id": "e09a5992",
   "metadata": {},
   "source": [
    "## Portfolio Insights"
   ]
  },
  {
   "cell_type": "code",
   "execution_count": null,
   "id": "adaac034",
   "metadata": {},
   "outputs": [],
   "source": [
    "# Generate portfolio insights\n",
    "print(\"Portfolio Volatility Insights:\")\n",
    "print(f\"Total Assets Analyzed: {len(best_models)}\")\n",
    "print(f\"EGARCH Models: {len(best_models[best_models['model'] == 'EGARCH'])}\")\n",
    "print(f\"GJR-GARCH Models: {len(best_models[best_models['model'] == 'GJR-GARCH'])}\")\n",
    "print(f\"GARCH Models: {len(best_models[best_models['model'] == 'GARCH'])}\")\n",
    "\n",
    "avg_persistence = best_models['persistence'].mean()\n",
    "print(f\"Average Volatility Persistence: {avg_persistence:.3f}\")\n",
    "\n",
    "# Trading recommendations\n",
    "print(\"\\nPortfolio Trading Recommendations:\")\n",
    "print(\"1. Use EGARCH for major assets (BTC, ETH)\")\n",
    "print(\"2. Use GJR-GARCH for high-volatility altcoins\")\n",
    "print(\"3. Monitor persistence for regime changes\")\n",
    "print(\"4. BTC shows superior model fit - focus volatility strategies here\")"
   ]
  }
 ],
 "metadata": {},
 "nbformat": 4,
 "nbformat_minor": 5
}
